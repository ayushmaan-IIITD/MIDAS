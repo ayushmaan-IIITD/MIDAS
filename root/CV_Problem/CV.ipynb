{
 "cells": [
  {
   "cell_type": "markdown",
   "metadata": {},
   "source": [
    "# Importing important libraries"
   ]
  },
  {
   "cell_type": "code",
   "execution_count": 1,
   "metadata": {},
   "outputs": [],
   "source": [
    "import pickle\n",
    "from sklearn.naive_bayes import GaussianNB\n",
    "from sklearn.naive_bayes import MultinomialNB\n",
    "import numpy as np\n",
    "from sklearn.linear_model import LogisticRegression\n",
    "import random\n",
    "import copy\n",
    "from sklearn.ensemble import AdaBoostClassifier\n",
    "from sklearn.decomposition import PCA\n",
    "import matplotlib.pyplot as plt\n",
    "from sklearn.neural_network import MLPClassifier\n",
    "import cv2"
   ]
  },
  {
   "cell_type": "markdown",
   "metadata": {},
   "source": [
    "# Reading Training data and Testing data"
   ]
  },
  {
   "cell_type": "code",
   "execution_count": 2,
   "metadata": {},
   "outputs": [
    {
     "name": "stdout",
     "output_type": "stream",
     "text": [
      "784\n",
      "8000\n",
      "8000\n"
     ]
    }
   ],
   "source": [
    "with open(\"train_image.pkl\", 'rb') as fo:\n",
    "    train_data = pickle.load(fo, encoding='bytes')\n",
    "print(len(train_data[0]))\n",
    "print(len(train_data))\n",
    "with open(\"train_label.pkl\", 'rb') as fo:\n",
    "    train_label = pickle.load(fo, encoding='bytes')\n",
    "print(len(train_label))\n",
    "with open(\"test_image.pkl\",'rb') as fo:\n",
    "    actual_test_data = pickle.load(fo, encoding='bytes')"
   ]
  },
  {
   "cell_type": "markdown",
   "metadata": {},
   "source": [
    "### Function to compute accuracy"
   ]
  },
  {
   "cell_type": "code",
   "execution_count": 3,
   "metadata": {},
   "outputs": [],
   "source": [
    "def accuracy(pred,true):\n",
    "    count = 0\n",
    "    for i in range(len(pred)):\n",
    "        if pred[i] == true[i]:\n",
    "            count+=1\n",
    "    return count/len(pred)"
   ]
  },
  {
   "cell_type": "markdown",
   "metadata": {},
   "source": [
    "### Random Shuffling of Training data"
   ]
  },
  {
   "cell_type": "code",
   "execution_count": 4,
   "metadata": {},
   "outputs": [],
   "source": [
    "random.Random(6).shuffle(train_data)\n",
    "random.Random(6).shuffle(train_label)"
   ]
  },
  {
   "cell_type": "markdown",
   "metadata": {},
   "source": [
    "# Un- Augmented Data"
   ]
  },
  {
   "cell_type": "markdown",
   "metadata": {},
   "source": [
    "### Function to create train-test split of the given training data"
   ]
  },
  {
   "cell_type": "code",
   "execution_count": 5,
   "metadata": {},
   "outputs": [],
   "source": [
    "def create_training_and_testing(percent,data,labels):\n",
    "    size_train = int(percent*len(data))\n",
    "    train_set = []\n",
    "    train_label = []\n",
    "    test_set = []\n",
    "    test_label = []\n",
    "    for i in range(size_train):\n",
    "        train_set.append(data[i])\n",
    "        train_label.append(labels[i])\n",
    "    for i in range(size_train,len(data)):\n",
    "        test_set.append(data[i])\n",
    "        test_label.append(labels[i])\n",
    "    return copy.deepcopy(train_set), copy.deepcopy(train_label), copy.deepcopy(test_set), copy.deepcopy(test_label)\n",
    "train_set, train_set_label, test_set, test_set_label = create_training_and_testing(0.8,train_data,train_label)"
   ]
  },
  {
   "cell_type": "markdown",
   "metadata": {},
   "source": [
    "Now, i am running various classifiers to see which one is giving me better performance"
   ]
  },
  {
   "cell_type": "markdown",
   "metadata": {},
   "source": [
    "## 1) Gaussian Naive Bayes"
   ]
  },
  {
   "cell_type": "markdown",
   "metadata": {},
   "source": [
    "### Function to run 5-fold cross validation"
   ]
  },
  {
   "cell_type": "code",
   "execution_count": 6,
   "metadata": {},
   "outputs": [
    {
     "name": "stdout",
     "output_type": "stream",
     "text": [
      "Accuracies for 5 folds : [0.61328125 0.64140625 0.6046875  0.63984375 0.63046875]\n",
      "#############\n",
      "Mean : 0.6259374999999999\n",
      "Standard Deviation : 0.014594118036044509\n"
     ]
    }
   ],
   "source": [
    "def run_folds_GNB(data,labels,num_of_folds):\n",
    "    acc = []\n",
    "    size_fold = int(len(data)/num_of_folds)\n",
    "    for i in range(num_of_folds):\n",
    "        train_fold_data = []\n",
    "        test_fold_data = []\n",
    "        train_fold_labels = []\n",
    "        test_fold_labels = []\n",
    "        start = i*size_fold                                                         # Starting index of test_fold\n",
    "        end = (i+1)*size_fold                                                       # Ending index of test_fold\n",
    "        x = range(start,end)\n",
    "        for j in range(len(data)):\n",
    "            if j in x:\n",
    "                test_fold_data.append(data[j])\n",
    "                test_fold_labels.append(labels[j])\n",
    "            else:\n",
    "                train_fold_data.append(data[j])\n",
    "                train_fold_labels.append(labels[j])\n",
    "        clf1 = GaussianNB()                                                         # Calling Gaussian Naive Bayes Classifier\n",
    "        clf1.fit(np.array(train_fold_data),np.array(train_fold_labels))\n",
    "        pred1 = clf1.predict(test_fold_data)\n",
    "        acc.append(accuracy(pred1,test_fold_labels))\n",
    "    acc = np.array(acc)\n",
    "    return acc, np.argmax(acc)                                                      # Return accuracy list and index of maximum accuracy which will be used as the best fold to run the testing data\n",
    "acc_GNB ,best_GNB= run_folds_GNB(train_set,train_set_label,5)\n",
    "print(\"Accuracies for 5 folds : \" + str(acc_GNB))\n",
    "print(\"#############\")\n",
    "print(\"Mean : \"+ str(np.mean(acc_GNB)))\n",
    "print(\"Standard Deviation : \" + str(np.std(acc_GNB)))"
   ]
  },
  {
   "cell_type": "markdown",
   "metadata": {},
   "source": [
    "### Function to run the best fold on test-split"
   ]
  },
  {
   "cell_type": "code",
   "execution_count": 7,
   "metadata": {},
   "outputs": [
    {
     "name": "stdout",
     "output_type": "stream",
     "text": [
      "Accuracy : 0.644375\n"
     ]
    }
   ],
   "source": [
    "def run_best_fold_GNB(data, label, test_data, test_labels, best, num_folds):\n",
    "    size_fold = int(len(data)/num_folds)\n",
    "    train_fold_data = []\n",
    "    train_fold_labels = []\n",
    "    start = size_fold*best\n",
    "    end = size_fold*(best+1)\n",
    "    x = range(start,end)\n",
    "    for i in range(len(data)):\n",
    "        if i not in x:\n",
    "            train_fold_data.append(data[i])\n",
    "            train_fold_labels.append(label[i])\n",
    "    clf1 = GaussianNB()\n",
    "    clf1.fit(np.array(train_fold_data),np.array(train_fold_labels))\n",
    "    pred1 = clf1.predict(test_data)\n",
    "    return accuracy(pred1, test_labels)\n",
    "print(\"Accuracy : \" + str(run_best_fold_GNB(train_set, train_set_label, test_set, test_set_label, best_GNB, 5)))"
   ]
  },
  {
   "cell_type": "markdown",
   "metadata": {},
   "source": [
    "## 2) Multinomial Naive Bayes"
   ]
  },
  {
   "cell_type": "markdown",
   "metadata": {},
   "source": [
    "### Function to run 5-fold cross validation"
   ]
  },
  {
   "cell_type": "code",
   "execution_count": 8,
   "metadata": {},
   "outputs": [
    {
     "name": "stdout",
     "output_type": "stream",
     "text": [
      "Accuracies for 5 folds : [0.70859375 0.7328125  0.7203125  0.72890625 0.71640625]\n",
      "#############\n",
      "Mean : 0.72140625\n",
      "Standard Deviation : 0.008679965257706949\n"
     ]
    }
   ],
   "source": [
    "def run_folds_MLB(data,labels,num_of_folds):\n",
    "    acc = []\n",
    "    size_fold = int(len(data)/num_of_folds)\n",
    "    for i in range(num_of_folds):\n",
    "        train_fold_data = []\n",
    "        test_fold_data = []\n",
    "        train_fold_labels = []\n",
    "        test_fold_labels = []\n",
    "        start = i*size_fold\n",
    "        end = (i+1)*size_fold\n",
    "        x = range(start,end)\n",
    "        for j in range(len(data)):\n",
    "            if j in x:\n",
    "                test_fold_data.append(data[j])\n",
    "                test_fold_labels.append(labels[j])\n",
    "            else:\n",
    "                train_fold_data.append(data[j])\n",
    "                train_fold_labels.append(labels[j])\n",
    "        clf1 = MultinomialNB()\n",
    "        clf1.fit(np.array(train_fold_data),np.array(train_fold_labels))\n",
    "        pred1 = clf1.predict(test_fold_data)\n",
    "        acc.append(accuracy(pred1,test_fold_labels))\n",
    "    acc = np.array(acc)\n",
    "    return acc, np.argmax(acc)\n",
    "acc_MNB ,best_MNB= run_folds_MLB(train_set,train_set_label,5)\n",
    "print(\"Accuracies for 5 folds : \" + str(acc_MNB))\n",
    "print(\"#############\")\n",
    "print(\"Mean : \"+ str(np.mean(acc_MNB)))\n",
    "print(\"Standard Deviation : \" + str(np.std(acc_MNB)))"
   ]
  },
  {
   "cell_type": "markdown",
   "metadata": {},
   "source": [
    "### Function to run the best fold on test-split"
   ]
  },
  {
   "cell_type": "code",
   "execution_count": 9,
   "metadata": {},
   "outputs": [
    {
     "name": "stdout",
     "output_type": "stream",
     "text": [
      "Accuracy : 0.715\n"
     ]
    }
   ],
   "source": [
    "def run_best_fold_MLB(data, label, test_data, test_labels, best, num_folds):\n",
    "    size_fold = int(len(data)/num_folds)\n",
    "    train_fold_data = []\n",
    "    train_fold_labels = []\n",
    "    start = size_fold*best\n",
    "    end = size_fold*(best+1)\n",
    "    x = range(start,end)\n",
    "    for i in range(len(data)):\n",
    "        if i not in x:\n",
    "            train_fold_data.append(data[i])\n",
    "            train_fold_labels.append(label[i])\n",
    "    clf1 = MultinomialNB()\n",
    "    clf1.fit(np.array(train_fold_data),np.array(train_fold_labels))\n",
    "    pred1 = clf1.predict(test_data)\n",
    "    return accuracy(pred1,test_labels)\n",
    "print(\"Accuracy : \" + str(run_best_fold_MLB(train_set, train_set_label, test_set, test_set_label, best_MNB, 5)))"
   ]
  },
  {
   "cell_type": "markdown",
   "metadata": {},
   "source": [
    "## 3) Logistic Regression"
   ]
  },
  {
   "cell_type": "markdown",
   "metadata": {},
   "source": [
    "### Code to ignore warnings thrown by sklearn"
   ]
  },
  {
   "cell_type": "code",
   "execution_count": 10,
   "metadata": {},
   "outputs": [],
   "source": [
    "from sklearn.exceptions import ConvergenceWarning\n",
    "import warnings\n",
    "warnings.filterwarnings(action='ignore', category=ConvergenceWarning)"
   ]
  },
  {
   "cell_type": "markdown",
   "metadata": {},
   "source": [
    "### Function to run 5-fold cross validation"
   ]
  },
  {
   "cell_type": "code",
   "execution_count": 11,
   "metadata": {},
   "outputs": [
    {
     "name": "stdout",
     "output_type": "stream",
     "text": [
      "Accuracies for 5 folds : [0.79375    0.79609375 0.7734375  0.80234375 0.8015625 ]\n",
      "#############\n",
      "Mean : 0.7934374999999999\n",
      "Standard Deviation : 0.01051180511972135\n"
     ]
    }
   ],
   "source": [
    "def run_folds_LR(data,labels,num_of_folds):\n",
    "    acc = []\n",
    "    size_fold = int(len(data)/num_of_folds)\n",
    "    for i in range(num_of_folds):\n",
    "        train_fold_data = []\n",
    "        test_fold_data = []\n",
    "        train_fold_labels = []\n",
    "        test_fold_labels = []\n",
    "        start = i*size_fold\n",
    "        end = (i+1)*size_fold\n",
    "        x = range(start,end)\n",
    "        for j in range(len(data)):\n",
    "            if j in x:\n",
    "                test_fold_data.append(data[j])\n",
    "                test_fold_labels.append(labels[j])\n",
    "            else:\n",
    "                train_fold_data.append(data[j])\n",
    "                train_fold_labels.append(labels[j])\n",
    "        clf1 = LogisticRegression(random_state=0, solver='lbfgs', multi_class='multinomial').fit(np.array(train_fold_data), np.array(train_fold_labels))\n",
    "        pred1 = clf1.predict(test_fold_data)\n",
    "        acc.append(accuracy(pred1,test_fold_labels))\n",
    "    acc = np.array(acc)\n",
    "    return acc, np.argmax(acc)\n",
    "acc_LR ,best_LR= run_folds_LR(train_set,train_set_label,5)\n",
    "print(\"Accuracies for 5 folds : \" + str(acc_LR))\n",
    "print(\"#############\")\n",
    "print(\"Mean : \"+ str(np.mean(acc_LR)))\n",
    "print(\"Standard Deviation : \" + str(np.std(acc_LR)))"
   ]
  },
  {
   "cell_type": "markdown",
   "metadata": {},
   "source": [
    "### Function to run the best fold on test-split"
   ]
  },
  {
   "cell_type": "code",
   "execution_count": 12,
   "metadata": {},
   "outputs": [
    {
     "name": "stdout",
     "output_type": "stream",
     "text": [
      "Accuracy : 0.78625\n"
     ]
    }
   ],
   "source": [
    "def run_best_fold_LR(data, label, test_data, test_labels, best, num_folds):\n",
    "    size_fold = int(len(data)/num_folds)\n",
    "    train_fold_data = []\n",
    "    train_fold_labels = []\n",
    "    start = size_fold*best\n",
    "    end = size_fold*(best+1)\n",
    "    x = range(start,end)\n",
    "    for i in range(len(data)):\n",
    "        if i not in x:\n",
    "            train_fold_data.append(data[i])\n",
    "            train_fold_labels.append(label[i])\n",
    "    clf1 = LogisticRegression(random_state=0, solver='lbfgs', multi_class='multinomial')\n",
    "    clf1.fit(np.array(train_fold_data),np.array(train_fold_labels))\n",
    "    pred1 = clf1.predict(test_data)\n",
    "    return accuracy(pred1, test_labels)\n",
    "print(\"Accuracy : \" + str(run_best_fold_LR(train_set, train_set_label, test_set, test_set_label, best_LR, 5)))"
   ]
  },
  {
   "cell_type": "markdown",
   "metadata": {},
   "source": [
    "## 4) Multi-layer Perceptron"
   ]
  },
  {
   "cell_type": "markdown",
   "metadata": {},
   "source": [
    "### Function to run 5-fold cross validation"
   ]
  },
  {
   "cell_type": "code",
   "execution_count": 13,
   "metadata": {},
   "outputs": [
    {
     "name": "stdout",
     "output_type": "stream",
     "text": [
      "Accuracies for 5 folds : [0.78984375 0.80078125 0.7390625  0.803125   0.77421875]\n",
      "#############\n",
      "Mean : 0.7814062500000001\n",
      "Standard Deviation : 0.02350718806290962\n"
     ]
    }
   ],
   "source": [
    "def run_folds_MLP(data,labels,num_of_folds):\n",
    "    acc = []\n",
    "    size_fold = int(len(data)/num_of_folds)\n",
    "    for i in range(num_of_folds):\n",
    "        train_fold_data = []\n",
    "        test_fold_data = []\n",
    "        train_fold_labels = []\n",
    "        test_fold_labels = []\n",
    "        start = i*size_fold\n",
    "        end = (i+1)*size_fold\n",
    "        x = range(start,end)\n",
    "        for j in range(len(data)):\n",
    "            if j in x:\n",
    "                test_fold_data.append(data[j])\n",
    "                test_fold_labels.append(labels[j])\n",
    "            else:\n",
    "                train_fold_data.append(data[j])\n",
    "                train_fold_labels.append(labels[j])\n",
    "        clf1 = MLPClassifier().fit(np.array(train_fold_data), np.array(train_fold_labels))\n",
    "        pred1 = clf1.predict(test_fold_data)\n",
    "        acc.append(accuracy(pred1,test_fold_labels))\n",
    "    acc = np.array(acc)\n",
    "    return acc, np.argmax(acc)\n",
    "acc_MLP ,best_MLP= run_folds_MLP(train_set,train_set_label,5)\n",
    "print(\"Accuracies for 5 folds : \" + str(acc_MLP))\n",
    "print(\"#############\")\n",
    "print(\"Mean : \"+ str(np.mean(acc_MLP)))\n",
    "print(\"Standard Deviation : \" + str(np.std(acc_MLP)))"
   ]
  },
  {
   "cell_type": "markdown",
   "metadata": {},
   "source": [
    "### Function to run the best fold on test-split"
   ]
  },
  {
   "cell_type": "code",
   "execution_count": 14,
   "metadata": {},
   "outputs": [
    {
     "name": "stdout",
     "output_type": "stream",
     "text": [
      "Accuracy : 0.80875\n"
     ]
    }
   ],
   "source": [
    "def run_best_fold_MLP(data, label, test_data, test_labels, best, num_folds):\n",
    "    size_fold = int(len(data)/num_folds)\n",
    "    train_fold_data = []\n",
    "    train_fold_labels = []\n",
    "    start = size_fold*best\n",
    "    end = size_fold*(best+1)\n",
    "    x = range(start,end)\n",
    "    for i in range(len(data)):\n",
    "        if i not in x:\n",
    "            train_fold_data.append(data[i])\n",
    "            train_fold_labels.append(label[i])\n",
    "    clf1 = MLPClassifier()\n",
    "    clf1.fit(np.array(train_fold_data),np.array(train_fold_labels))\n",
    "    pred1 = clf1.predict(test_data)\n",
    "    return accuracy(pred1, test_labels)\n",
    "print(\"Accuracy : \" + str(run_best_fold_MLP(train_set, train_set_label, test_set, test_set_label, best_MLP, 5)))"
   ]
  },
  {
   "cell_type": "markdown",
   "metadata": {},
   "source": [
    "## 5) ADA Boost"
   ]
  },
  {
   "cell_type": "markdown",
   "metadata": {},
   "source": [
    "### Function to run 5-fold cross validation"
   ]
  },
  {
   "cell_type": "code",
   "execution_count": 15,
   "metadata": {},
   "outputs": [
    {
     "name": "stdout",
     "output_type": "stream",
     "text": [
      "Accuracies for 5 folds : [0.72265625 0.740625   0.69921875 0.7453125  0.746875  ]\n",
      "#############\n",
      "Mean : 0.7309375000000001\n",
      "Standard Deviation : 0.018050763920815095\n"
     ]
    }
   ],
   "source": [
    "def run_folds_ADA(data,labels,num_of_folds):\n",
    "    acc = []\n",
    "    size_fold = int(len(data)/num_of_folds)\n",
    "    for i in range(num_of_folds):\n",
    "        train_fold_data = []\n",
    "        test_fold_data = []\n",
    "        train_fold_labels = []\n",
    "        test_fold_labels = []\n",
    "        start = i*size_fold\n",
    "        end = (i+1)*size_fold\n",
    "        x = range(start,end)\n",
    "        for j in range(len(data)):\n",
    "            if j in x:\n",
    "                test_fold_data.append(data[j])\n",
    "                test_fold_labels.append(labels[j])\n",
    "            else:\n",
    "                train_fold_data.append(data[j])\n",
    "                train_fold_labels.append(labels[j])\n",
    "        clf1 = AdaBoostClassifier().fit(np.array(train_fold_data), np.array(train_fold_labels))\n",
    "        pred1 = clf1.predict(test_fold_data)\n",
    "        acc.append(accuracy(pred1,test_fold_labels))\n",
    "    acc = np.array(acc)\n",
    "    return acc, np.argmax(acc)\n",
    "acc_ADA ,best_ADA= run_folds_ADA(train_set,train_set_label,5)\n",
    "print(\"Accuracies for 5 folds : \" + str(acc_ADA))\n",
    "print(\"#############\")\n",
    "print(\"Mean : \"+ str(np.mean(acc_ADA)))\n",
    "print(\"Standard Deviation : \" + str(np.std(acc_ADA)))"
   ]
  },
  {
   "cell_type": "markdown",
   "metadata": {},
   "source": [
    "### Function to run the best fold on test-split"
   ]
  },
  {
   "cell_type": "code",
   "execution_count": 16,
   "metadata": {},
   "outputs": [
    {
     "name": "stdout",
     "output_type": "stream",
     "text": [
      "Accuracy : 0.744375\n"
     ]
    }
   ],
   "source": [
    "def run_best_fold_ADA(data, label, test_data, test_labels, best, num_folds):\n",
    "    size_fold = int(len(data)/num_folds)\n",
    "    train_fold_data = []\n",
    "    train_fold_labels = []\n",
    "    start = size_fold*best\n",
    "    end = size_fold*(best+1)\n",
    "    x = range(start,end)\n",
    "    for i in range(len(data)):\n",
    "        if i not in x:\n",
    "            train_fold_data.append(data[i])\n",
    "            train_fold_labels.append(label[i])\n",
    "    clf1 = AdaBoostClassifier()\n",
    "    clf1.fit(np.array(train_fold_data),np.array(train_fold_labels))\n",
    "    pred1 = clf1.predict(test_data)\n",
    "    return accuracy(pred1, test_labels)\n",
    "print(\"Accuracy : \" + str(run_best_fold_ADA(train_set, train_set_label, test_set, test_set_label, best_ADA, 5)))"
   ]
  },
  {
   "cell_type": "markdown",
   "metadata": {},
   "source": [
    "## 6) Logistic Regression with PCA"
   ]
  },
  {
   "cell_type": "markdown",
   "metadata": {},
   "source": [
    "Although, difference between test accuracies of Logistic Regression and Multi-Layer Perceptron is 2 %, I chose to go with Logistic Regression while applying PCA because Logistic Regression had lower Standard Deviation across 5 folds as compared to Multi-Layer Perceptron."
   ]
  },
  {
   "cell_type": "markdown",
   "metadata": {},
   "source": [
    "### Function to run PCA on a varied set of number of features required to find the optimal value of number of features"
   ]
  },
  {
   "cell_type": "code",
   "execution_count": 17,
   "metadata": {},
   "outputs": [
    {
     "name": "stdout",
     "output_type": "stream",
     "text": [
      "[0.7975, 0.795, 0.806875, 0.8075, 0.8, 0.80125, 0.801875, 0.794375, 0.801875, 0.80375]\n"
     ]
    },
    {
     "data": {
      "image/png": "[encoded data removed]",
      "text/plain": [
       "<Figure size 432x288 with 1 Axes>"
      ]
     },
     "metadata": {
      "needs_background": "light"
     },
     "output_type": "display_data"
    }
   ],
   "source": [
    "def run_PCA(n_features):\n",
    "    acc_PCA = []\n",
    "    for i in n_features:\n",
    "        pca = PCA(n_components=i).fit(train_data)\n",
    "        train_data_PCA = pca.transform(train_data)\n",
    "        train_set_PCA, train_label_PCA, test_set_PCA, test_label_PCA = create_training_and_testing(0.8,train_data_PCA,train_label)\n",
    "        acc_LR_PCA ,best_LR_PCA= run_folds_LR(train_set_PCA,train_label_PCA,5)\n",
    "        acc_PCA.append(run_best_fold_LR(train_set_PCA, train_label_PCA, test_set_PCA, test_label_PCA, best_LR_PCA, 5))\n",
    "    plt.plot(n_features,acc_PCA,label=\"Testing Accuracy Curve\")\n",
    "    plt.legend()\n",
    "    plt.title(\"Test Accuracy v/s Number of features used in PCA\")\n",
    "    plt.plot()\n",
    "    return acc_PCA\n",
    "acc_PCA = run_PCA([30,40,50,60,70,80,90,100,110,120])\n",
    "print(acc_PCA)"
   ]
  },
  {
   "cell_type": "markdown",
   "metadata": {},
   "source": [
    "In the above plot, we can see that we are getting best accuracy for number of features = 60"
   ]
  },
  {
   "cell_type": "markdown",
   "metadata": {},
   "source": [
    "# Data Augmentation"
   ]
  },
  {
   "cell_type": "markdown",
   "metadata": {},
   "source": [
    "### Function to augment additional data to training set"
   ]
  },
  {
   "cell_type": "markdown",
   "metadata": {},
   "source": [
    "Augmentation is done by adding a mirror image of each data point in the dataset with the same corresponding label to increase the size of the dataset."
   ]
  },
  {
   "cell_type": "code",
   "execution_count": 18,
   "metadata": {},
   "outputs": [],
   "source": [
    "def augment_data(data, label):\n",
    "    train_data_aug = []\n",
    "    train_label_aug = []\n",
    "    for i in range(len(data)):\n",
    "        train_data_aug.append(data[i])\n",
    "        train_label_aug.append(label[i])\n",
    "        image = np.array(data[i]).reshape(28,28)\n",
    "        new_image = cv2.flip(image,+1)\n",
    "        new_image = new_image.flatten().tolist()\n",
    "        train_data_aug.append(new_image)\n",
    "        train_label_aug.append(label[i])\n",
    "    return copy.deepcopy(train_data_aug), copy.deepcopy(train_label_aug)\n",
    "train_data_aug, train_label_aug = augment_data(train_data, train_label)"
   ]
  },
  {
   "cell_type": "markdown",
   "metadata": {},
   "source": [
    "### Random shuffling the augmented data"
   ]
  },
  {
   "cell_type": "code",
   "execution_count": 19,
   "metadata": {},
   "outputs": [],
   "source": [
    "random.Random(6).shuffle(train_data_aug)\n",
    "random.Random(6).shuffle(train_label_aug)"
   ]
  },
  {
   "cell_type": "markdown",
   "metadata": {},
   "source": [
    "### Create train-test split of augmented data"
   ]
  },
  {
   "cell_type": "code",
   "execution_count": 20,
   "metadata": {},
   "outputs": [],
   "source": [
    "train_set_aug, train_set_label_aug, test_set_aug, test_set_label_aug = create_training_and_testing(0.8,train_data_aug,train_label_aug)"
   ]
  },
  {
   "cell_type": "markdown",
   "metadata": {},
   "source": [
    "## 1) Gaussian Naive Bayes"
   ]
  },
  {
   "cell_type": "code",
   "execution_count": 21,
   "metadata": {},
   "outputs": [
    {
     "name": "stdout",
     "output_type": "stream",
     "text": [
      "Accuracies for 5 folds : [0.65742188 0.65390625 0.65625    0.63554687 0.63242188]\n",
      "#############\n",
      "Mean : 0.6471093750000001\n",
      "Standard Deviation : 0.010821370097231234\n"
     ]
    }
   ],
   "source": [
    "acc_GNB_aug ,best_GNB_aug= run_folds_GNB(train_set_aug,train_set_label_aug,5)\n",
    "print(\"Accuracies for 5 folds : \" + str(acc_GNB_aug))\n",
    "print(\"#############\")\n",
    "print(\"Mean : \"+ str(np.mean(acc_GNB_aug)))\n",
    "print(\"Standard Deviation : \" + str(np.std(acc_GNB_aug)))"
   ]
  },
  {
   "cell_type": "code",
   "execution_count": 22,
   "metadata": {},
   "outputs": [
    {
     "name": "stdout",
     "output_type": "stream",
     "text": [
      "Accuracy : 0.655625\n"
     ]
    }
   ],
   "source": [
    "print(\"Accuracy : \" + str(run_best_fold_GNB(train_set_aug, train_set_label_aug, test_set_aug, test_set_label_aug, best_GNB_aug, 5)))"
   ]
  },
  {
   "cell_type": "markdown",
   "metadata": {},
   "source": [
    "## 2) Multinomial Naive Bayes"
   ]
  },
  {
   "cell_type": "code",
   "execution_count": 23,
   "metadata": {},
   "outputs": [
    {
     "name": "stdout",
     "output_type": "stream",
     "text": [
      "Accuracies for 5 folds : [0.73398438 0.71367187 0.71328125 0.7125     0.70976562]\n",
      "#############\n",
      "Mean : 0.7166406249999999\n",
      "Standard Deviation : 0.008778552744117353\n"
     ]
    }
   ],
   "source": [
    "acc_MNB_aug ,best_MNB_aug= run_folds_MLB(train_set_aug,train_set_label_aug,5)\n",
    "print(\"Accuracies for 5 folds : \" + str(acc_MNB_aug))\n",
    "print(\"#############\")\n",
    "print(\"Mean : \"+ str(np.mean(acc_MNB_aug)))\n",
    "print(\"Standard Deviation : \" + str(np.std(acc_MNB_aug)))"
   ]
  },
  {
   "cell_type": "code",
   "execution_count": 24,
   "metadata": {},
   "outputs": [
    {
     "name": "stdout",
     "output_type": "stream",
     "text": [
      "Accuracy : 0.7253125\n"
     ]
    }
   ],
   "source": [
    "print(\"Accuracy : \" + str(run_best_fold_MLB(train_set_aug, train_set_label_aug, test_set_aug, test_set_label_aug, best_MNB_aug, 5)))"
   ]
  },
  {
   "cell_type": "markdown",
   "metadata": {},
   "source": [
    "## 3) Logistic Classifier"
   ]
  },
  {
   "cell_type": "code",
   "execution_count": 25,
   "metadata": {},
   "outputs": [
    {
     "name": "stdout",
     "output_type": "stream",
     "text": [
      "Accuracies for 5 folds : [0.81992188 0.78984375 0.81953125 0.7921875  0.78789062]\n",
      "#############\n",
      "Mean : 0.8018750000000001\n",
      "Standard Deviation : 0.014639632770539389\n"
     ]
    }
   ],
   "source": [
    "acc_LR_aug ,best_LR_aug= run_folds_LR(train_set_aug,train_set_label_aug,5)\n",
    "print(\"Accuracies for 5 folds : \" + str(acc_LR_aug))\n",
    "print(\"#############\")\n",
    "print(\"Mean : \"+ str(np.mean(acc_LR_aug)))\n",
    "print(\"Standard Deviation : \" + str(np.std(acc_LR_aug)))"
   ]
  },
  {
   "cell_type": "code",
   "execution_count": 26,
   "metadata": {},
   "outputs": [
    {
     "name": "stdout",
     "output_type": "stream",
     "text": [
      "Accuracy : 0.8165625\n"
     ]
    }
   ],
   "source": [
    "print(\"Accuracy : \" + str(run_best_fold_LR(train_set_aug, train_set_label_aug, test_set_aug, test_set_label_aug, best_LR_aug, 5)))"
   ]
  },
  {
   "cell_type": "markdown",
   "metadata": {},
   "source": [
    "## 4) Multi Layer Perceptron"
   ]
  },
  {
   "cell_type": "code",
   "execution_count": 27,
   "metadata": {},
   "outputs": [
    {
     "name": "stdout",
     "output_type": "stream",
     "text": [
      "Accuracies for 5 folds : [0.803125   0.81132812 0.821875   0.79960937 0.7890625 ]\n",
      "#############\n",
      "Mean : 0.8049999999999999\n",
      "Standard Deviation : 0.011057930730080115\n"
     ]
    }
   ],
   "source": [
    "acc_MLP_aug ,best_MLP_aug= run_folds_MLP(train_set_aug,train_set_label_aug,5)\n",
    "print(\"Accuracies for 5 folds : \" + str(acc_MLP_aug))\n",
    "print(\"#############\")\n",
    "print(\"Mean : \"+ str(np.mean(acc_MLP_aug)))\n",
    "print(\"Standard Deviation : \" + str(np.std(acc_MLP_aug)))"
   ]
  },
  {
   "cell_type": "code",
   "execution_count": 28,
   "metadata": {},
   "outputs": [
    {
     "name": "stdout",
     "output_type": "stream",
     "text": [
      "Accuracy : 0.8253125\n"
     ]
    }
   ],
   "source": [
    "print(\"Accuracy : \" + str(run_best_fold_MLP(train_set_aug, train_set_label_aug, test_set_aug, test_set_label_aug, best_MLP_aug, 5)))"
   ]
  },
  {
   "cell_type": "markdown",
   "metadata": {},
   "source": [
    "## 5) ADABoost"
   ]
  },
  {
   "cell_type": "code",
   "execution_count": 29,
   "metadata": {},
   "outputs": [
    {
     "name": "stdout",
     "output_type": "stream",
     "text": [
      "Accuracies for 5 folds : [0.75117188 0.74101562 0.76484375 0.72890625 0.71210938]\n",
      "#############\n",
      "Mean : 0.739609375\n",
      "Standard Deviation : 0.018128703824149984\n"
     ]
    }
   ],
   "source": [
    "acc_ADA_aug ,best_ADA_aug= run_folds_ADA(train_set_aug,train_set_label_aug,5)\n",
    "print(\"Accuracies for 5 folds : \" + str(acc_ADA_aug))\n",
    "print(\"#############\")\n",
    "print(\"Mean : \"+ str(np.mean(acc_ADA_aug)))\n",
    "print(\"Standard Deviation : \" + str(np.std(acc_ADA_aug)))"
   ]
  },
  {
   "cell_type": "code",
   "execution_count": 30,
   "metadata": {},
   "outputs": [
    {
     "name": "stdout",
     "output_type": "stream",
     "text": [
      "Accuracy : 0.7553125\n"
     ]
    }
   ],
   "source": [
    "print(\"Accuracy : \" + str(run_best_fold_ADA(train_set_aug, train_set_label_aug, test_set_aug, test_set_label_aug, best_ADA_aug, 5)))"
   ]
  },
  {
   "cell_type": "markdown",
   "metadata": {},
   "source": [
    "## 6) Multi-Layer Perceptron with PCA"
   ]
  },
  {
   "cell_type": "markdown",
   "metadata": {},
   "source": [
    "I used Multi-Layer Perceptron with PCA because I was getting highest test accuracy with Multi-Layer Perceptron and Standard Deviation was also lower compared to other classifier models. And also, since I have increased the size of data, Multi-Layer Perceptron now has access to more data and hence, should be able to learn more and give better accuracy"
   ]
  },
  {
   "cell_type": "code",
   "execution_count": 31,
   "metadata": {},
   "outputs": [
    {
     "name": "stdout",
     "output_type": "stream",
     "text": [
      "[0.8140625, 0.82625, 0.84625, 0.830625, 0.83125, 0.849375, 0.8453125, 0.8390625, 0.8425, 0.8346875]\n"
     ]
    },
    {
     "data": {
      "image/png": "[encoded data removed]",
      "text/plain": [
       "<Figure size 432x288 with 1 Axes>"
      ]
     },
     "metadata": {
      "needs_background": "light"
     },
     "output_type": "display_data"
    }
   ],
   "source": [
    "def run_PCA(n_features):\n",
    "    acc_PCA = []\n",
    "    for i in n_features:\n",
    "        pca = PCA(n_components=i).fit(train_data_aug)\n",
    "        train_data_PCA = pca.transform(train_data_aug)\n",
    "        train_set_PCA, train_label_PCA, test_set_PCA, test_label_PCA = create_training_and_testing(0.8,train_data_PCA,train_label_aug)\n",
    "        acc_MLP_PCA ,best_MLP_PCA= run_folds_MLP(train_set_PCA,train_label_PCA,5)\n",
    "        acc_PCA.append(run_best_fold_MLP(train_set_PCA, train_label_PCA, test_set_PCA, test_label_PCA, best_MLP_PCA, 5))\n",
    "    plt.plot(n_features,acc_PCA,label=\"Testing Accuracy Curve\")\n",
    "    plt.legend()\n",
    "    plt.title(\"Test Accuracy v/s Number of features used in PCA\")\n",
    "    plt.plot()\n",
    "    return acc_PCA\n",
    "acc_PCA = run_PCA([30,40,50,60,70,80,90,100,110,120])\n",
    "print(acc_PCA)"
   ]
  },
  {
   "cell_type": "markdown",
   "metadata": {},
   "source": [
    "In the above plot, we can see that we are getting best accuracy for number of features = 80"
   ]
  },
  {
   "cell_type": "markdown",
   "metadata": {},
   "source": [
    "# Predictions for actual test data"
   ]
  },
  {
   "cell_type": "markdown",
   "metadata": {},
   "source": [
    "The overall best model is from the augmented training data section and the classifier used is Multi-Layer Perceptron with PCA and using "
   ]
  },
  {
   "cell_type": "code",
   "execution_count": 36,
   "metadata": {},
   "outputs": [],
   "source": [
    "def return_test_labels(data, label, test_data, best, num_folds):\n",
    "    size_fold = int(len(data)/num_folds)\n",
    "    train_fold_data = []\n",
    "    train_fold_labels = []\n",
    "    start = size_fold*best\n",
    "    end = size_fold*(best+1)\n",
    "    x = range(start,end)\n",
    "    for i in range(len(data)):\n",
    "        if i not in x:\n",
    "            train_fold_data.append(data[i])\n",
    "            train_fold_labels.append(label[i])\n",
    "    clf1 = MLPClassifier().fit(np.array(train_fold_data), np.array(train_fold_labels))\n",
    "    pred1 = clf1.predict(test_data)\n",
    "    return copy.deepcopy(pred1.tolist())"
   ]
  },
  {
   "cell_type": "markdown",
   "metadata": {},
   "source": [
    "### Running the best classifier over the test data"
   ]
  },
  {
   "cell_type": "code",
   "execution_count": 37,
   "metadata": {},
   "outputs": [],
   "source": [
    "pca = PCA(n_components=80).fit(train_data_aug)\n",
    "train_data_PCA = pca.transform(train_data_aug)\n",
    "pca_test = PCA(n_components=80).fit(np.array(actual_test_data))\n",
    "actual_test_data_PCA = pca_test.transform(np.array(actual_test_data))\n",
    "train_set_PCA, train_label_PCA, test_set_PCA, test_label_PCA = create_training_and_testing(0.8,train_data_PCA,train_label_aug)\n",
    "acc_MLP_PCA ,best_MLP_PCA= run_folds_MLP(train_set_PCA,train_label_PCA,5)\n",
    "final_test_prediction = return_test_labels(train_set_PCA, train_label_PCA, actual_test_data_PCA, best_MLP_PCA, 5)"
   ]
  },
  {
   "cell_type": "markdown",
   "metadata": {},
   "source": [
    "# Saving Predictions in CSV file"
   ]
  },
  {
   "cell_type": "code",
   "execution_count": 41,
   "metadata": {},
   "outputs": [],
   "source": [
    "import csv\n",
    "output_list = []\n",
    "output_list.append(['image_index','class'])\n",
    "for q in range(len(final_test_prediction)):\n",
    "    temp_list = [q,final_test_prediction[q]]\n",
    "    output_list.append(temp_list)\n",
    "with open('Ayushmaan_Kaul.csv', 'w') as f:\n",
    "    wtr = csv.writer(f,lineterminator='\\n')\n",
    "    wtr.writerows(output_list)"
   ]
  },
  {
   "cell_type": "code",
   "execution_count": null,
   "metadata": {},
   "outputs": [],
   "source": []
  }
 ],
 "metadata": {
  "kernelspec": {
   "display_name": "Python 3",
   "language": "python",
   "name": "python3"
  },
  "language_info": {
   "codemirror_mode": {
    "name": "ipython",
    "version": 3
   },
   "file_extension": ".py",
   "mimetype": "text/x-python",
   "name": "python",
   "nbconvert_exporter": "python",
   "pygments_lexer": "ipython3",
   "version": "3.7.1"
  }
 },
 "nbformat": 4,
 "nbformat_minor": 2
}
